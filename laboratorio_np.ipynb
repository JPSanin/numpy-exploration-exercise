{
 "cells": [
  {
   "cell_type": "markdown",
   "metadata": {},
   "source": [
    "<label style='color:red'> ¡Completar esta celda! </label>\n",
    "\n",
    "__Integrantes:__\n",
    "\n",
    "+ Julián Bolaños: , Grupo (Miércoles 7pm):\n",
    "+ Juan Pablo Sanin: , Grupo (Miércoles 7pm):"
   ]
  },
  {
   "cell_type": "markdown",
   "metadata": {},
   "source": [
    "# Unidad 1"
   ]
  },
  {
   "cell_type": "markdown",
   "metadata": {},
   "source": [
    "**Ejercicio 1.**\n",
    "\n",
    "Instale la libreria [*NLTK*](http://www.nltk.org/howto/twitter.html) e imprima la versión de esta"
   ]
  },
  {
   "cell_type": "code",
   "execution_count": 1,
   "id": "fc7fdb6a",
   "metadata": {},
   "outputs": [],
   "source": [
    "import nltk as nltk\n",
    "import numpy as np"
   ]
  },
  {
   "cell_type": "code",
   "execution_count": 2,
   "id": "a65aca62",
   "metadata": {},
   "outputs": [
    {
     "data": {
      "text/plain": [
       "'3.5'"
      ]
     },
     "execution_count": 2,
     "metadata": {},
     "output_type": "execute_result"
    }
   ],
   "source": [
    "nltk.__version__"
   ]
  },
  {
   "cell_type": "markdown",
   "metadata": {},
   "source": [
    "**Ejercicio 2.**\n",
    "\n",
    "Ejecute el las siguientes lineas de código e imprima por pantalla los primeros 100 registros del *train_x*. ¿Presenta algún error? si es así escriba la solución en un comentario \n",
    "\n",
    "```python\n",
    "\n",
    "from nltk.corpus import twitter_samples \n",
    "\n",
    "all_positive_tweets = twitter_samples.strings('positive_tweets.json')\n",
    "all_negative_tweets = twitter_samples.strings('negative_tweets.json')\n",
    "\n",
    "tweets = all_positive_tweets + all_negative_tweets ## Concatenate the lists. \n",
    "labels = np.append(np.ones((len(all_positive_tweets),1)), np.zeros((len(all_negative_tweets),1)), axis = 0)\n",
    "\n",
    "train_pos  = all_positive_tweets[:4000]\n",
    "train_neg  = all_negative_tweets[:4000]\n",
    "\n",
    "train_x = train_pos + train_neg \n",
    "```"
   ]
  },
  {
   "cell_type": "code",
   "execution_count": 3,
   "id": "db5aab55",
   "metadata": {},
   "outputs": [],
   "source": [
    "#Presentamos un error\n",
    "#Solución, usando download\n",
    "#from nltk.corpus import twitter_samples\n",
    "#nltk.download('twitter_samples')\n",
    "#twitter_samples.fileids()"
   ]
  },
  {
   "cell_type": "code",
   "execution_count": 4,
   "id": "2cde8d78",
   "metadata": {},
   "outputs": [
    {
     "name": "stderr",
     "output_type": "stream",
     "text": [
      "[nltk_data] Downloading package twitter_samples to\n",
      "[nltk_data]     C:\\Users\\julia\\AppData\\Roaming\\nltk_data...\n",
      "[nltk_data]   Package twitter_samples is already up-to-date!\n"
     ]
    }
   ],
   "source": [
    "from nltk.corpus import twitter_samples\n",
    "nltk.download('twitter_samples')\n",
    "\n",
    "all_positive_tweets = twitter_samples.strings('positive_tweets.json')\n",
    "all_negative_tweets = twitter_samples.strings('negative_tweets.json')\n",
    "\n",
    "tweets = all_positive_tweets + all_negative_tweets ## Concatenate the lists. \n",
    "labels = np.append(np.ones((len(all_positive_tweets),1)), np.zeros((len(all_negative_tweets),1)), axis = 0)\n",
    "\n",
    "train_pos  = all_positive_tweets[:4000]\n",
    "train_neg  = all_negative_tweets[:4000]\n",
    "\n",
    "train_x = train_pos + train_neg "
   ]
  },
  {
   "cell_type": "code",
   "execution_count": 5,
   "id": "5c405670",
   "metadata": {},
   "outputs": [
    {
     "name": "stdout",
     "output_type": "stream",
     "text": [
      "['#FollowFriday @France_Inte @PKuchly57 @Milipol_Paris for being top engaged members in my community this week :)', '@Lamb2ja Hey James! How odd :/ Please call our Contact Centre on 02392441234 and we will be able to assist you :) Many thanks!', '@DespiteOfficial we had a listen last night :) As You Bleed is an amazing track. When are you in Scotland?!', '@97sides CONGRATS :)', 'yeaaaah yippppy!!!  my accnt verified rqst has succeed got a blue tick mark on my fb profile :) in 15 days', '@BhaktisBanter @PallaviRuhail This one is irresistible :)\\n#FlipkartFashionFriday http://t.co/EbZ0L2VENM', \"We don't like to keep our lovely customers waiting for long! We hope you enjoy! Happy Friday! - LWWF :) https://t.co/smyYriipxI\", '@Impatientraider On second thought, there’s just not enough time for a DD :) But new shorts entering system. Sheep must be buying.', 'Jgh , but we have to go to Bayan :D bye', 'As an act of mischievousness, am calling the ETL layer of our in-house warehousing app Katamari.\\n\\nWell… as the name implies :p.', '#FollowFriday @wncer1 @Defense_gouv for being top influencers in my community this week :)', \"Who Wouldn't Love These Big....Juicy....Selfies :) - http://t.co/QVzjgd1uFo http://t.co/oWBL11eQRY\", '@Mish23615351  follow @jnlazts &amp; http://t.co/RCvcYYO0Iq follow u back :)', \"@jjulieredburn Perfect, so you already know what's waiting for you :)\", 'Great new opportunity for junior triathletes aged 12 and 13 at the Gatorade series! Get your entries in :) http://t.co/of3DyOzML0', 'Laying out a greetings card range for print today - love my job :-)', \"Friend's lunch... yummmm :)\\n#Nostalgia #TBS #KU.\", \"@RookieSenpai @arcadester it is the id conflict thanks for the help :D here's the screenshot of it working\", '@oohdawg_ Hi liv :))', 'Hello I need to know something can u fm me on Twitter?? — sure thing :) dm me x http://t.co/W6Dy130BV7', '#FollowFriday @MBandScott_ @Eric_FLE @pointsolutions3 for being top new followers in my community this week :)', \"@rossbreadmore I've heard the Four Seasons is pretty dope. Penthouse, obvs #Gobigorgohome\\nHave fun y'all :)\", '@gculloty87 Yeah I suppose she was lol! Chat in a bit just off out x :))', 'Hello :) Get Youth Job Opportunities follow &gt;&gt; @tolajobjobs @maphisa301', \"💅🏽💋 - :)))) haven't seen you in years\", '@Bosslogic @amellywood @CW_Arrow @ARROWwriters Thank you! :-)', '@johngutierrez1 hope the rest of your night goes by quickly... I am off to bed... got my music fix and now it is time to dream  :)', 'Spiritual Ritual Festival (Népal)\\nBeginning of Line-up :)\\nIt is left for the line-up (y)\\nSee more at:... http://t.co/QMNz62OEuc', \"@ke7zum Hey Sarah! Send us an email at bitsy@bitdefender.com and we'll help you asap :)\", '@izzkamilhalda lols. :D', 'MY kik - hatessuce32429 #kik #kikme #lgbt #tinder #nsfw #akua #cumshot :) http://t.co/TnHJD36yzf', '@KalinWhite come to my house :)))))', '#nsn_supplements, Effective press release distribution with results! :) [link removed] #PressRelease #NewsDistribution', 'Hi BAM ! @BarsAndMelody \\nCan you follow my bestfriend @969Horan696 ? \\nShe loves you a lot :) \\nSee you in Warsaw &lt;3 \\nLove you &lt;3 x46', 'everyone watch the documentary Earthlings on YouTube :-)', '@jamiefigsxx  follow @jnlazts &amp; http://t.co/RCvcYYO0Iq follow u back :)', '#FollowFriday @MichelBauza @InvataOnline for being top supports in my community this week :)', 'buuuuuuuut oh well :-)', '@leisuremarkltd @NoshandQuaff @aktarislam @keanebrands @HeritageSilver I am looking forward to visiting next week #letsgetmessy Jo :-)', '@sehunshinedaily if it makes u feel better i never have nor will see anyone in kpop in the flesh :D', '@Joyster2012 @CathStaincliffe Good for you, girl!! Best wishes :-)', '@_Kimimi A great enough reason to listen to one epic soundtrack. :D', '@AquaDesignGroup Thank you for the shout out. Have a great Friday :)', 'I added a video to a @YouTube playlist http://t.co/yzpfsMxUq0 im back on twitch and today it going to be league :) - 1 / 4', 'Would love to see you dear in #Jordan :) waiting you! @FIRDOZ  :) @VisitJordan @dannyprol', '@ABNORMAL_ANA92 oh, okay :D thanks!', '@sssniperwolf like how to fake gameplays ;) haha Im kidding, im kidding. You do good stuff :).', '@dennislami @Dicle_Aygur, yeah exactly :)', 'Our new product line is in our #etsy shop now! Check it out :) http://t.co/h8exCTLQxg #boxroomcrafts', '@PeakYourMind I hope your vacation is going great! :D', '@groovinshawn they are rechargeable and it normally comes with a charger when u buy it :)', '#FollowFriday @France_Espana @reglisse_menthe @CCI_inter for being top engaged members in my community this week :)', \"Well she's asleep and I have no one to talk to sooo someone text me :)\", \"@brynybrath @smallcappy Yes, I suppose. I bet he'll have a blue fit after hearing her speech today. Pity :-)\", 'Green gardens, midnight sun, beautiful canals dasvidaniya till next visit.:)', '@KeithRParsons are you scouting SG for a future WLAN pros conference here in Asia? :)', '@Cecilie_Hell @420evilangel @wazimotometal @durooooooo @spigranty Good for u, better change it to lollipop 🍭 :).', 'We &lt;3 u Nez :) #AGNEZMO https://t.co/cGViMHSINz', '@LittleMix Follow me Please :)  This is my Big Dream :)', '@Elemaaan  oley be :D', '\"@CowokAddict: Mama is the only reason why I stand stronger up to now! :)\"', '@MacatangayApril  follow @jnlazts &amp; http://t.co/RCvcYYO0Iq follow u back :)', '@tk_kjk_kndr @boukendreamer OH MY GOD MISTY, MY BABY IS SO CUTE!!! :D', '@BhaktisBanter \\n\\nI love blue :)\\n#FlipkartFashionFriday http://t.co/HnbinH35ES', \"@CarcassDrop Woohoo! Can't wait :) Have you signed up yet, or still thinking about it? MKa\", 'i have liam access now :))', '@SyuhxdxTengku most welcome :)', 'Stats for the day have arrived. 1 new follower and NO unfollowers :) via http://t.co/p6K6SiH58a.', \"@sluttywife2 you shouldn't be surprised...you have an amazing figure :)\", '#FollowFriday @murtishaw @aqui_fr @FRTechStartups for being top influencers in my community this week :)', '#HappyBirthdayEmilyBett @emilybett :) Wishing you all the best you beautiful,sweet,talented,amazing… https://t.co/humtC1tr3I', '2 plans for the day down the drain great :):', '@x123456789tine @5SOS_FAHUpdates gotta love timezones :p', 'are your parents proud of you — lol, not in the least :D maybe sometimes they get happy because of my grades, al... http://t.co/bJjeGIOOGU', 'Grande :)  https://t.co/gsaaxNpR8u', 'Manila_bro has chosen to follow me on Twitter! http://t.co/lKXZWXN1fb. Thanks for the follow :)', \"@syazwanzainal sure let me know when you're around..at this side of the world #eh u too take care :-)\", '#FollowFriday @michae1green @superninjaalan @Doug_Laney for being top new followers in my community this week :)', 'finally the fucking weekend :)', 'REAL :)', '@LoLEsportspedia thanks :D', 'Hi BAM ! @BarsAndMelody \\nCan you follow my bestfriend @969Horan696 ? \\nShe loves you a lot :) \\nSee you in Warsaw &lt;3 \\nLove you &lt;3 x45', 'YES! I Joined #HushedCallWithFraydoe for a call &amp; gift from @_Fraydoe &lt;3 Gotta Get @HushedApp :D http://t.co/VaLVe8omdT', '@YasLarry yeahhh :)', 'can I DM you &amp; make your night better :)))', 'just joined the #HushedPinWithSammy Event :D Might get to Text with @SammyWilk for a day! Luv U @HushedApp http://t.co/kGfgawdHy9', 'Would really appreciate it if you share this video around :) https://t.co/MhK3B3wOpQ', 'Hello :) Get Youth Job Opportunities follow &gt;&gt; @tolajobjobs @xhebenkewu_9920', '@TomParker oh wow!! That is beautiful tom :)', 'Love You @darlingIXHAI22 @SyreenAnne :)) https://t.co/wx7yRrE7sV', 'I added a video to a @YouTube playlist http://t.co/HVVPhSYakA im back on twitch and today it going to be league :) - 1 / 3', '#FollowFriday @AmericanOGrain @PecomeP @APaulicand for being top supports in my community this week :)', '@ZaynZaynmalik30  follow @jnlazts &amp; http://t.co/RCvcYYO0Iq follow u back :)', \"Gym Monday can't wait :). Likes\", \"@HarNiLiZaLouis Hey, here's your invite to join Scope as an influencer :)  http://t.co/rZgZtQ2fJT\", 'Those friends know themselves :)', 'waiting for nudes :-)', '@JacobWhitesides go sleep u ! :)))))))))', 'Stats for the day have arrived. 1 new follower and NO unfollowers :) via http://t.co/RB8pMNgMEo.', 'My birthday is a week today! :D']\n"
     ]
    }
   ],
   "source": [
    "print(train_x[0:100])"
   ]
  },
  {
   "cell_type": "markdown",
   "metadata": {},
   "source": [
    "**Ejercicio 3.**\n",
    "\n",
    "Ejecute las siguientes lineas de código\n",
    "```python\n",
    "import re \n",
    "\n",
    "tweet = all_positive_tweets[2277]\n",
    "\n",
    "print('\\033[92m' + tweet)\n",
    "print('\\033[94m')\n",
    "\n",
    "tweet2 = re.sub(r'https?:\\/\\/.*[\\r\\n]*', '', tweet)\n",
    "\n",
    "tweet2 = re.sub(r'#', '', tweet2)\n",
    "\n",
    "print(tweet2)\n",
    "```\n",
    "+ Investigue el proposito de la libreria `re` y escriba este resultado en una celda markdown\n",
    "+ Describa en una celda markdown el resultado de la ejecución de cada `re.sub`\n",
    "+ Convierta *tweet2* a minusculas."
   ]
  },
  {
   "cell_type": "code",
   "execution_count": 6,
   "id": "e784324c",
   "metadata": {},
   "outputs": [
    {
     "name": "stdout",
     "output_type": "stream",
     "text": [
      "\u001b[92mMy beautiful sunflowers on a sunny Friday morning off :) #sunflowers #favourites #happy #Friday off… https://t.co/3tfYom0N1i\n",
      "\u001b[94m\n",
      "My beautiful sunflowers on a sunny Friday morning off :) sunflowers favourites happy Friday off… \n"
     ]
    }
   ],
   "source": [
    "import re \n",
    "\n",
    "tweet = all_positive_tweets[2277]\n",
    "\n",
    "print('\\033[92m' + tweet)\n",
    "print('\\033[94m')\n",
    "\n",
    "tweet2 = re.sub(r'https?:\\/\\/.*[\\r\\n]*', '', tweet)\n",
    "tweet2 = re.sub(r'#', '', tweet2)\n",
    "\n",
    "print(tweet2)"
   ]
  },
  {
   "cell_type": "markdown",
   "metadata": {},
   "source": [
    "**RegEx Python**\n",
    "Regular expression, es una secuencia de caracteres que forman un patrón de búsqueda\n",
    "Puede ser utilizada para revisar si una cadena contiene el patrón especificado.\n",
    "\n",
    "Tiene las siguientes funciones:\n",
    "+ findall(): Retorna una lista con todas las coincidencias\n",
    "+ search(): Retrona un objeto Match si encuentra una coincidencia\n",
    "+ split(): Retorna una lista donde se separa la cadena en cada coincidencia\n",
    "+ sub(): Reemplaza una o más coincidencias por una cadena especificada\n",
    "\n",
    "Cuenta con metacaracteres, sequencias especiales y conjuntos que terminan\n",
    "siendo muy útiles a la hora de construir patrones de cadenas.\n",
    "\n",
    "Referencia: https://www.w3schools.com/python/python_regex.asp\n",
    "\n",
    "**re.sub en el código**\n",
    "\n",
    "+ En primera instancia busca reemplazar el link al final del tweet original por un vacío, en este caso borrándolo, utiliza sequencias especiales para indicar el inicio de la ruta del link y su contenido\n",
    "+ El la segunda instancia busca reemplazar todos los '#' por espacios vacíos \n"
   ]
  },
  {
   "cell_type": "code",
   "execution_count": 7,
   "id": "9dcaa1da",
   "metadata": {},
   "outputs": [
    {
     "name": "stdout",
     "output_type": "stream",
     "text": [
      "Lowercase tweet: \n",
      "my beautiful sunflowers on a sunny friday morning off :) sunflowers favourites happy friday off… \n"
     ]
    }
   ],
   "source": [
    "tweet3 = tweet2.lower()\n",
    "print(\"Lowercase tweet: \")\n",
    "print(tweet3)"
   ]
  },
  {
   "cell_type": "markdown",
   "metadata": {},
   "source": [
    "# Unidad 2"
   ]
  },
  {
   "cell_type": "markdown",
   "metadata": {},
   "source": [
    "**Ejercicio 4.**\n",
    "\n",
    "\n",
    "$$Ro = \\begin{bmatrix} cos \\theta & -sin \\theta \\\\ sin \\theta & cos \\theta \\end{bmatrix}$$\n",
    "$$x = \\begin{bmatrix} 2 \\\\  2 \\end{bmatrix}$$\n",
    "\n",
    "Aplique la siguiente operación\n",
    " $$y = x \\cdot Ro$$"
   ]
  },
  {
   "cell_type": "code",
   "execution_count": 8,
   "id": "comic-performer",
   "metadata": {},
   "outputs": [],
   "source": [
    "# ayuda - No modificar\n",
    "angle = 100 * (np.pi / 180) # parametro para las funciones "
   ]
  },
  {
   "cell_type": "code",
   "execution_count": 11,
   "metadata": {},
   "outputs": [
    {
     "data": {
      "text/plain": [
       "array([[-2.31691186],\n",
       "       [ 1.62231915]])"
      ]
     },
     "execution_count": 11,
     "metadata": {},
     "output_type": "execute_result"
    }
   ],
   "source": [
    "x = np.array([2,2]).reshape(2,1)\n",
    "Ro = np.array([[np.cos(angle), -1*np.sin(angle)],[np.sin(angle), np.cos(angle)]])\n",
    "\n",
    "y = Ro.dot(x)\n",
    "y"
   ]
  },
  {
   "cell_type": "markdown",
   "metadata": {},
   "source": [
    "Salida esperada\n",
    "```\n",
    "[[ 1.62231915 -2.31691186]]\n",
    "```"
   ]
  },
  {
   "cell_type": "markdown",
   "metadata": {},
   "source": [
    "**Ejercicio 5.**\n",
    "\n",
    "Aplique la siguientes operaciones a `A`\n",
    "\n",
    "$$\\|\\mathrm{A}\\|_{F} \\equiv \\sqrt{\\sum_{i=1}^{m} \\sum_{j=1}^{n}\\left|a_{i j}\\right|^{2}}$$\n"
   ]
  },
  {
   "cell_type": "code",
   "execution_count": 9,
   "id": "adaptive-integer",
   "metadata": {},
   "outputs": [],
   "source": [
    "A = np.array([[2, 2],\n",
    "              [2, 2]])"
   ]
  },
  {
   "cell_type": "code",
   "execution_count": 13,
   "metadata": {},
   "outputs": [
    {
     "data": {
      "text/plain": [
       "4.0"
      ]
     },
     "execution_count": 13,
     "metadata": {},
     "output_type": "execute_result"
    }
   ],
   "source": [
    "norm_A_F = np.sqrt( np.sum(np.square(A)) ) \n",
    "norm_A_F"
   ]
  },
  {
   "cell_type": "markdown",
   "metadata": {},
   "source": [
    "Salida esperada\n",
    "```\n",
    "4\n",
    "```"
   ]
  },
  {
   "cell_type": "markdown",
   "metadata": {},
   "source": [
    "***"
   ]
  },
  {
   "cell_type": "markdown",
   "metadata": {},
   "source": [
    "Ejecute las siguientes lineas de código para los ejercicios 6-7\n",
    "```python\n",
    "from sklearn.datasets import load_wine\n",
    "import pandas as pd\n",
    "\n",
    "df = pd.DataFrame(load_wine().data, columns= load_wine().feature_names)\n",
    "df[\"target\"] = load_wine().target\n",
    "```"
   ]
  },
  {
   "cell_type": "code",
   "execution_count": 10,
   "id": "bc96e287",
   "metadata": {},
   "outputs": [],
   "source": [
    "from sklearn.datasets import load_wine\n",
    "import pandas as pd\n",
    "\n",
    "df = pd.DataFrame(load_wine().data, columns= load_wine().feature_names)\n",
    "df[\"target\"] = load_wine().target"
   ]
  },
  {
   "cell_type": "markdown",
   "metadata": {},
   "source": [
    "**Ejercicio 6.**"
   ]
  },
  {
   "cell_type": "markdown",
   "metadata": {},
   "source": [
    "¿Cual es la clase mayoritaria (\"target\") del dataset?"
   ]
  },
  {
   "cell_type": "code",
   "execution_count": 15,
   "metadata": {},
   "outputs": [
    {
     "name": "stdout",
     "output_type": "stream",
     "text": [
      "Las clases presentan la siguiente distribución: \n",
      "1    71\n",
      "0    59\n",
      "2    48\n",
      "Name: target, dtype: int64\n",
      "El valor que más se repite es: 1\n"
     ]
    }
   ],
   "source": [
    "print('Las clases presentan la siguiente distribución: ')\n",
    "print(df['target'].value_counts())\n",
    "print('El valor que más se repite es:', df['target'].value_counts().idxmax())"
   ]
  },
  {
   "cell_type": "markdown",
   "metadata": {},
   "source": [
    "**Ejercicio 7.**\n",
    "\n",
    "Para la variable `flavanoids` que variables presentan una correlación linear positiva (mayor o igual a 0.6) y negativa (menor o igual a -0.5)"
   ]
  },
  {
   "cell_type": "code",
   "execution_count": 16,
   "metadata": {},
   "outputs": [
    {
     "name": "stdout",
     "output_type": "stream",
     "text": [
      "Variables con correlación positiva\n"
     ]
    },
    {
     "data": {
      "text/plain": [
       "total_phenols                   True\n",
       "flavanoids                      True\n",
       "proanthocyanins                 True\n",
       "od280/od315_of_diluted_wines    True\n",
       "Name: flavanoids, dtype: bool"
      ]
     },
     "execution_count": 16,
     "metadata": {},
     "output_type": "execute_result"
    }
   ],
   "source": [
    "#Variables con correlación positiva\n",
    "print('Variables con correlación positiva')\n",
    "corr_pos = df.corr()['flavanoids'] >= 0.6\n",
    "corr_pos[corr_pos == True]"
   ]
  },
  {
   "cell_type": "code",
   "execution_count": 17,
   "metadata": {},
   "outputs": [
    {
     "name": "stdout",
     "output_type": "stream",
     "text": [
      "Variables con correlación negativa\n"
     ]
    },
    {
     "data": {
      "text/plain": [
       "nonflavanoid_phenols    True\n",
       "target                  True\n",
       "Name: flavanoids, dtype: bool"
      ]
     },
     "execution_count": 17,
     "metadata": {},
     "output_type": "execute_result"
    }
   ],
   "source": [
    "#Variables con correlación negativa\n",
    "print('Variables con correlación negativa')\n",
    "corr_pos = df.corr()['flavanoids'] <= -0.5\n",
    "corr_pos[corr_pos == True]"
   ]
  },
  {
   "cell_type": "markdown",
   "metadata": {},
   "source": [
    "**Ejercicio 8**\n",
    "\n",
    "En las siguientes celdas se cargará en memoria una representación de las palabras en su forma vectorial. Ejecute e interprete las siguientes celdas"
   ]
  },
  {
   "cell_type": "code",
   "execution_count": 11,
   "id": "hybrid-grant",
   "metadata": {},
   "outputs": [
    {
     "data": {
      "text/plain": [
       "243"
      ]
     },
     "execution_count": 11,
     "metadata": {},
     "output_type": "execute_result"
    }
   ],
   "source": [
    "import pickle\n",
    "\n",
    "word_embeddings = pickle.load(open(\"word_embeddings_subset.p\", \"rb\"))\n",
    "len(word_embeddings) # 243 palabras con su representación vectorial"
   ]
  },
  {
   "cell_type": "code",
   "execution_count": 12,
   "id": "popular-dancing",
   "metadata": {},
   "outputs": [
    {
     "name": "stdout",
     "output_type": "stream",
     "text": [
      "dimension: (300,)\n"
     ]
    }
   ],
   "source": [
    "print(\"dimension: {}\".format(word_embeddings['Spain'].shape[0])) # cada palabra cuenta con una dimensión de 300 valores"
   ]
  },
  {
   "cell_type": "code",
   "execution_count": 13,
   "id": "appointed-teacher",
   "metadata": {},
   "outputs": [
    {
     "data": {
      "text/plain": [
       "array([ 0.03149414, -0.18261719,  0.16308594,  0.12451172, -0.01855469,\n",
       "       -0.17382812, -0.12109375, -0.1328125 , -0.125     ,  0.24511719],\n",
       "      dtype=float32)"
      ]
     },
     "execution_count": 13,
     "metadata": {},
     "output_type": "execute_result"
    }
   ],
   "source": [
    "word_embeddings['Spain'][:10] # los 10 primeros valores de la palabra Spain"
   ]
  },
  {
   "cell_type": "markdown",
   "metadata": {},
   "source": [
    "*Calcule la similitud coseno de las palabras king y queen*\n",
    "\n",
    "$\\cos (\\theta)=\\frac{\\mathbf{A} \\cdot \\mathbf{B}}{\\|\\mathbf{A}\\|\\|\\mathbf{B}\\|}=\\frac{\\sum_{i=1}^{n} A_{i} B_{i}}{\\sqrt{\\sum_{i=1}^{n} A_{i}^{2}} \\sqrt{\\sum_{i=1}^{n} B_{i}^{2}}}\\tag{1}$\n",
    "\n",
    "<img src=\"fig.png\">"
   ]
  },
  {
   "cell_type": "markdown",
   "metadata": {},
   "source": [
    "+ Los numeros entre 0 y 1 indican similitud\n",
    "+ Los numeros entre -1-0 indican una disimilitud \n",
    "\n",
    "¿Cual es su interpretación del indicador en las palabras seleccionadas?"
   ]
  },
  {
   "cell_type": "code",
   "execution_count": 5,
   "metadata": {},
   "outputs": [],
   "source": [
    "word_king =  word_embeddings['king']\n",
    "word_queen =  word_embeddings['queen']"
   ]
  },
  {
   "cell_type": "code",
   "execution_count": 13,
   "metadata": {},
   "outputs": [
    {
     "data": {
      "text/plain": [
       "0.6510956"
      ]
     },
     "execution_count": 13,
     "metadata": {},
     "output_type": "execute_result"
    }
   ],
   "source": [
    "#Cálculo con sumatorias\n",
    "cos_similarity = word_king.dot(word_queen)/(np.sqrt(np.sum(np.square(word_king))) * (np.sqrt(np.sum(np.square(word_queen)))))\n",
    "cos_similarity"
   ]
  },
  {
   "cell_type": "code",
   "execution_count": 18,
   "metadata": {},
   "outputs": [
    {
     "data": {
      "text/plain": [
       "0.6510957"
      ]
     },
     "execution_count": 18,
     "metadata": {},
     "output_type": "execute_result"
    }
   ],
   "source": [
    "#Calculo con vectores\n",
    "from numpy import linalg\n",
    "cos_similarity = word_king.dot(word_queen)/(np.linalg.norm(word_king) * np.linalg.norm(word_queen))\n",
    "cos_similarity"
   ]
  },
  {
   "cell_type": "markdown",
   "metadata": {},
   "source": [
    "**Interpretación:**\n",
    "\n",
    "\n",
    "En base al cálculo de la similitud, podemos indicar que **SÍ** existe similitud entre las palabras *king* y *queen*, esto debido a que nuestra similitud es un valor entre 0 y 1."
   ]
  },
  {
   "cell_type": "markdown",
   "metadata": {},
   "source": [
    "## Unidad 3"
   ]
  },
  {
   "cell_type": "markdown",
   "metadata": {},
   "source": [
    "Entrene un modelo basado en el algortimo de Naive Bayes a partir de la ejecución de las siguientes lineas de código.\n",
    "\n",
    "```python\n",
    "from sklearn.model_selection import train_test_split\n",
    "from sklearn.naive_bayes import GaussianNB\n",
    "\n",
    "X, y = load_wine(return_X_y=True)\n",
    "X_train, X_test, y_train, y_test = train_test_split(X, y, test_size=0.2, random_state=0)\n",
    "gnb = GaussianNB().fit(X_train, y_train)\n",
    "y_pred = gnb.predict(X_test)\n",
    "\n",
    "from sklearn.metrics import classification_report\n",
    "print(classification_report(y_test, y_pred))\n",
    "```"
   ]
  },
  {
   "cell_type": "code",
   "execution_count": 14,
   "id": "7b600633",
   "metadata": {},
   "outputs": [
    {
     "name": "stdout",
     "output_type": "stream",
     "text": [
      "              precision    recall  f1-score   support\n",
      "\n",
      "           0       0.88      1.00      0.93        14\n",
      "           1       1.00      0.81      0.90        16\n",
      "           2       0.86      1.00      0.92         6\n",
      "\n",
      "    accuracy                           0.92        36\n",
      "   macro avg       0.91      0.94      0.92        36\n",
      "weighted avg       0.93      0.92      0.92        36\n",
      "\n"
     ]
    }
   ],
   "source": [
    "from sklearn.model_selection import train_test_split\n",
    "from sklearn.naive_bayes import GaussianNB\n",
    "\n",
    "X, y = load_wine(return_X_y=True)\n",
    "X_train, X_test, y_train, y_test = train_test_split(X, y, test_size=0.2, random_state=0)\n",
    "gnb = GaussianNB().fit(X_train, y_train)\n",
    "y_pred = gnb.predict(X_test)\n",
    "\n",
    "from sklearn.metrics import classification_report\n",
    "print(classification_report(y_test, y_pred))"
   ]
  },
  {
   "cell_type": "markdown",
   "metadata": {},
   "source": [
    "**Ejercicio 9.**\n",
    "+ Investigue e interprete los resultados de la precision\n",
    "\n",
    "La precisión del modelo hace referencia a ¿qué proporción de todas las predicciones de pertenencia a la clase que hizo el clasificador fueron correctas? Es el resultado de los **Verdaderos Positivos/(Verdaderos Positivos+Falsos Positivos)**\n",
    "En otras palabras es la estadística que nos dice la calidad del modelo en términos de predecir correctamente para esa clase.\n",
    "\n",
    "Para el caso que tenemos, podemos observar que para la clase 0 la precisión es de 0.88 es decir que de los 14 acertó en aproximadamente 12. Para la clase 1 es 1.00, que significa que acertó para las 16 ocurrencias. Finalmente para la clase 2 fue de 0.86, que de 6 ocurrencias vendría siendo aproximadamente 5.\n"
   ]
  },
  {
   "cell_type": "markdown",
   "metadata": {},
   "source": [
    "**Ejercicio 10.**\n",
    "+ Investigue e interprete los resultados de recall\n",
    "\n",
    "El recall del modelo o sensibilidad hace referencia a ¿qué proporción de todos los ejemplos que pertenecían a la clase en la realidad, identificó el clasificador? Es el resultado de **Verdaderos Positivos/(Verdaderos Positivos+Falsos Negativos)**\n",
    "En otras palabras es la estadística que nos informa sobre la cantidad que el modelo es capaz de identificar para esa clase.\n",
    "\n",
    "Para el caso que tenemos podemos observar que para las clases 0 y 1 el recall es 1.00 es decir que fue capaz de identificar el 100% de los datos pertenecientes a la clase, en ninguna ocasión predijo que no pertenecía cuando en realidad si. Para la clase 1 el recall fue de 0.81 que nos indica que aproximadamente 4 datos fueron identificados como no pertenecientes a esta clase cuando en realidad sí.\n"
   ]
  },
  {
   "cell_type": "markdown",
   "metadata": {},
   "source": [
    "**Ejercicio 11.**\n",
    "+ Investigue e interprete los resultados de accuracy\n",
    "\n",
    "El accuracy o exactitud del modelo hace referencia a el porcentaje de caso que acertó el modelo. Es de las métricas más usadas y favoritas, sin embargo, se debe tener cuidado porque no necesariamente indica qué tan bueno es el modelo.\n",
    "\n",
    "Es el resultado de **Verdaderos Positivos + Verdaderos Negativos /(Verdaderos Positivos+ Verdaderos Negativos+ Falsos Positivos + Falsos Negativos)**\n",
    "\n",
    "En nuestro caso, la exactitud es de 0.92, que nos indica que el modelo acierta el 92% de las veces, esto es muy bueno. Sin embargo debemos tener cuidado cuando las clases están desbalanceadas."
   ]
  },
  {
   "cell_type": "markdown",
   "metadata": {},
   "source": [
    "Referencia: https://www.iartificial.net/precision-recall-f1-accuracy-en-clasificacion/\n"
   ]
  },
  {
   "cell_type": "markdown",
   "metadata": {},
   "source": [
    "## Unidad 4"
   ]
  },
  {
   "cell_type": "markdown",
   "metadata": {},
   "source": [
    "**Ejercicio 12.**"
   ]
  },
  {
   "cell_type": "markdown",
   "metadata": {},
   "source": [
    "+ Instale la libreria statsmodels e imprima su versión"
   ]
  },
  {
   "cell_type": "markdown",
   "metadata": {},
   "source": [
    "Ejecute las siguientes lineas de código\n",
    "\n",
    "```python\n",
    "import pandas as pd\n",
    "from statsmodels.formula.api import ols\n",
    "\n",
    "df = pd.read_csv(\"taiwan_real_estate2.csv\")\n",
    "```"
   ]
  },
  {
   "cell_type": "markdown",
   "metadata": {},
   "source": [
    "+ Ejecute, investigue e interprete la siguiente linea de código.\n",
    "\n",
    "```python\n",
    "mdl_price_vs_conv = ols(\"price_twd_msq ~ n_convenience\", data=df).fit()\n",
    "```"
   ]
  },
  {
   "cell_type": "markdown",
   "metadata": {},
   "source": [
    "**Ejercicio 13.**\n",
    "\n",
    "Ejecute, investigue e interprete el resultado del $R-squared$\n",
    "```python\n",
    "print(mdl_price_vs_conv.summary())\n",
    "```"
   ]
  },
  {
   "cell_type": "markdown",
   "metadata": {},
   "source": [
    "**Ejercicio 14.**\n",
    "\n",
    "La siguiente linea de código nos permite acceder a los componentes de la regresión lineal simple \n",
    "```python\n",
    "mdl_price_vs_conv.params\n",
    "```\n",
    "\n",
    "$ Y = a + b*X$\n",
    "\n",
    "Ejecute la siguiente linea de código para crear la varible independiente $X$\n",
    "\n",
    "```python\n",
    "explanatory_data = pd.DataFrame({'n_convenience': np.arange(0,11)})\n",
    "```\n",
    "+ Complete $ Y = a + b*X$ y compare los resultados del método predict de `mdl_price_vs_conv` con $X$"
   ]
  },
  {
   "cell_type": "markdown",
   "metadata": {},
   "source": [
    "## Unidad 5"
   ]
  },
  {
   "cell_type": "markdown",
   "metadata": {},
   "source": [
    "Ejecute la siguientes lineas de código \n",
    "\n",
    "```python\n",
    "import numpy as np\n",
    "import matplotlib.pyplot as plt\n",
    "\n",
    "rgb = np.array([[[255, 0, 0], [255, 0 ,0], [255, 0, 0]],\n",
    "              [[0, 255, 0], [0, 255, 0], [0, 255, 0]],\n",
    "              [[0, 0, 255], [0, 0, 255], [0, 0, 255]]])\n",
    "\n",
    "plt.imshow(rgb)\n",
    "plt.show()\n",
    "```"
   ]
  },
  {
   "cell_type": "code",
   "execution_count": 15,
   "id": "29ba9452",
   "metadata": {},
   "outputs": [
    {
     "data": {
      "image/png": "[encoded data removed]",
      "text/plain": [
       "<Figure size 432x288 with 1 Axes>"
      ]
     },
     "metadata": {
      "needs_background": "light"
     },
     "output_type": "display_data"
    }
   ],
   "source": [
    "import numpy as np\n",
    "import matplotlib.pyplot as plt\n",
    "\n",
    "rgb = np.array([[[255, 0, 0], [255, 0 ,0], [255, 0, 0]],\n",
    "              [[0, 255, 0], [0, 255, 0], [0, 255, 0]],\n",
    "              [[0, 0, 255], [0, 0, 255], [0, 0, 255]]])\n",
    "\n",
    "plt.imshow(rgb)\n",
    "plt.show()"
   ]
  },
  {
   "cell_type": "markdown",
   "metadata": {},
   "source": [
    "Ejecute las siguiente lineas de código \n",
    "\n",
    "```python\n",
    "colors = np.array([[[255, 0, 0], [255, 255 ,0], [255, 255, 255]],\n",
    "              [[255, 0, 255], [0, 255, 0], [0, 255, 255]],\n",
    "              [[0, 0, 0], [0, 255, 255], [0, 0, 255]]])\n",
    "\n",
    "plt.imshow(colors)\n",
    "plt.show()\n",
    "```"
   ]
  },
  {
   "cell_type": "code",
   "execution_count": 16,
   "id": "ebce4223",
   "metadata": {},
   "outputs": [
    {
     "data": {
      "image/png": "[encoded data removed]",
      "text/plain": [
       "<Figure size 432x288 with 1 Axes>"
      ]
     },
     "metadata": {
      "needs_background": "light"
     },
     "output_type": "display_data"
    }
   ],
   "source": [
    "colors = np.array([[[255, 0, 0], [255, 255 ,0], [255, 255, 255]],\n",
    "              [[255, 0, 255], [0, 255, 0], [0, 255, 255]],\n",
    "              [[0, 0, 0], [0, 255, 255], [0, 0, 255]]])\n",
    "\n",
    "plt.imshow(colors)\n",
    "plt.show()"
   ]
  },
  {
   "cell_type": "markdown",
   "metadata": {},
   "source": [
    "**Ejercicio 15.**\n",
    "\n",
    "+ Utilice el método where de numpy para cambiar los valores de `colors` de 255 a 50\n",
    "+ utilice imshow() para mostrar el resultado "
   ]
  },
  {
   "cell_type": "code",
   "execution_count": 17,
   "id": "8adb7a49",
   "metadata": {},
   "outputs": [
    {
     "data": {
      "image/png": "[encoded data removed]",
      "text/plain": [
       "<Figure size 432x288 with 1 Axes>"
      ]
     },
     "metadata": {
      "needs_background": "light"
     },
     "output_type": "display_data"
    }
   ],
   "source": [
    "rgb50= np.where(rgb==255, 50, rgb)\n",
    "plt.imshow(rgb50)\n",
    "plt.show()"
   ]
  },
  {
   "cell_type": "code",
   "execution_count": 18,
   "id": "5dee0b7b",
   "metadata": {},
   "outputs": [
    {
     "data": {
      "image/png": "[encoded data removed]",
      "text/plain": [
       "<Figure size 432x288 with 1 Axes>"
      ]
     },
     "metadata": {
      "needs_background": "light"
     },
     "output_type": "display_data"
    }
   ],
   "source": [
    "colors50= np.where(colors==255, 50, colors)\n",
    "plt.imshow(colors50)\n",
    "plt.show()"
   ]
  },
  {
   "cell_type": "markdown",
   "metadata": {},
   "source": [
    "Ejecute las siguientes lineas de código\n",
    "```python\n",
    "from matplotlib import image\n",
    "from matplotlib import pyplot\n",
    "\n",
    "ima = image.imread('hack')\n",
    "pyplot.imshow(ima)\n",
    "print(type(ima))\n",
    "```"
   ]
  },
  {
   "cell_type": "code",
   "execution_count": 19,
   "id": "e167dc8f",
   "metadata": {},
   "outputs": [
    {
     "name": "stdout",
     "output_type": "stream",
     "text": [
      "<class 'numpy.ndarray'>\n"
     ]
    },
    {
     "data": {
      "image/png": "[encoded data removed]",
      "text/plain": [
       "<Figure size 432x288 with 1 Axes>"
      ]
     },
     "metadata": {
      "needs_background": "light"
     },
     "output_type": "display_data"
    }
   ],
   "source": [
    "from matplotlib import image\n",
    "from matplotlib import pyplot\n",
    "\n",
    "ima = image.imread('hack')\n",
    "pyplot.imshow(ima)\n",
    "print(type(ima))"
   ]
  },
  {
   "cell_type": "markdown",
   "metadata": {},
   "source": [
    "**Ejercicio 16.**\n",
    "\n",
    "+ Obtenga la dimensión del verde de `ima`\n",
    "+ Utilice imshow() para mostrar el resultado"
   ]
  },
  {
   "cell_type": "code",
   "execution_count": 20,
   "id": "a2cd7d73",
   "metadata": {},
   "outputs": [
    {
     "name": "stderr",
     "output_type": "stream",
     "text": [
      "Clipping input data to the valid range for imshow with RGB data ([0..1] for floats or [0..255] for integers).\n"
     ]
    },
    {
     "data": {
      "text/plain": [
       "<matplotlib.image.AxesImage at 0x1f256667160>"
      ]
     },
     "execution_count": 20,
     "metadata": {},
     "output_type": "execute_result"
    },
    {
     "data": {
      "image/png": "[encoded data removed]",
      "text/plain": [
       "<Figure size 432x288 with 1 Axes>"
      ]
     },
     "metadata": {
      "needs_background": "light"
     },
     "output_type": "display_data"
    }
   ],
   "source": [
    "ima.shape\n",
    "\n",
    "#obtener dimension verde\n",
    "dimensionVerde= ima[:,:,1]\n",
    "\n",
    "#crear imagen vacía\n",
    "imaVerde = np.zeros(ima.shape)\n",
    "\n",
    "#asignar verde\n",
    "imaVerde[:,:,1]=dimensionVerde\n",
    "\n",
    "pyplot.imshow(imaVerde)"
   ]
  },
  {
   "cell_type": "markdown",
   "metadata": {},
   "source": [
    "**Ejercicio 17.**\n",
    "\n",
    "+ Investigue y utilice un método en numpy que le permita dar vuelta a `ima` \n",
    "+ Utilice imshow() y show() para mostrar el resultado"
   ]
  },
  {
   "cell_type": "markdown",
   "id": "6f58ba95",
   "metadata": {},
   "source": [
    "+ El método flip de numpy nos permite voltear los datos de la matriz y en este caso se ve que se voltean las imágenes, las entradas son la matriz o arreglo y el eje."
   ]
  },
  {
   "cell_type": "code",
   "execution_count": 21,
   "id": "d130ea8f",
   "metadata": {},
   "outputs": [
    {
     "data": {
      "text/plain": [
       "<matplotlib.image.AxesImage at 0x1f2566b88e0>"
      ]
     },
     "execution_count": 21,
     "metadata": {},
     "output_type": "execute_result"
    },
    {
     "data": {
      "image/png": "[encoded data removed]",
      "text/plain": [
       "<Figure size 432x288 with 1 Axes>"
      ]
     },
     "metadata": {
      "needs_background": "light"
     },
     "output_type": "display_data"
    }
   ],
   "source": [
    "imaFlip=np.flip(ima, 0)\n",
    "pyplot.imshow(imaFlip)"
   ]
  },
  {
   "cell_type": "code",
   "execution_count": 22,
   "id": "d082a419",
   "metadata": {},
   "outputs": [
    {
     "data": {
      "text/plain": [
       "<matplotlib.image.AxesImage at 0x1f258e1beb0>"
      ]
     },
     "execution_count": 22,
     "metadata": {},
     "output_type": "execute_result"
    },
    {
     "data": {
      "image/png": "[encoded data removed]",
      "text/plain": [
       "<Figure size 432x288 with 1 Axes>"
      ]
     },
     "metadata": {
      "needs_background": "light"
     },
     "output_type": "display_data"
    }
   ],
   "source": [
    "imaFlip=np.flip(ima, 1)\n",
    "pyplot.imshow(imaFlip)"
   ]
  }
 ],
 "metadata": {
  "kernelspec": {
   "display_name": "Python 3",
   "language": "python",
   "name": "python3"
  },
  "language_info": {
   "codemirror_mode": {
    "name": "ipython",
    "version": 3
   },
   "file_extension": ".py",
   "mimetype": "text/x-python",
   "name": "python",
   "nbconvert_exporter": "python",
   "pygments_lexer": "ipython3",
   "version": "3.8.3"
  }
 },
 "nbformat": 4,
 "nbformat_minor": 5
}
