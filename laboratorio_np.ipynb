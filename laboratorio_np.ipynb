{
 "cells": [
  {
   "cell_type": "markdown",
   "id": "directed-environment",
   "metadata": {},
   "source": [
    "<label style='color:red'> ¡Completar esta celda! </label>\n",
    "\n",
    "__Integrantes:__\n",
    "\n",
    "+ Nombre: , Grupo (día):\n",
    "+ Nombre: , Grupo (día):"
   ]
  },
  {
   "cell_type": "markdown",
   "id": "chemical-relation",
   "metadata": {},
   "source": [
    "# Unidad 1"
   ]
  },
  {
   "cell_type": "markdown",
   "id": "multiple-generator",
   "metadata": {},
   "source": [
    "**Ejercicio 1.**\n",
    "\n",
    "Instale la libreria [*NLTK*](http://www.nltk.org/howto/twitter.html) e imprima la versión de esta"
   ]
  },
  {
   "cell_type": "markdown",
   "id": "suitable-boost",
   "metadata": {},
   "source": [
    "**Ejercicio 2.**\n",
    "\n",
    "Ejecute el las siguientes lineas de código e imprima por pantalla los primeros 100 registros del *train_x*. ¿Presenta algún error? si es así escriba la solución en un comentario \n",
    "\n",
    "```python\n",
    "\n",
    "from nltk.corpus import twitter_samples \n",
    "\n",
    "all_positive_tweets = twitter_samples.strings('positive_tweets.json')\n",
    "all_negative_tweets = twitter_samples.strings('negative_tweets.json')\n",
    "\n",
    "tweets = all_positive_tweets + all_negative_tweets ## Concatenate the lists. \n",
    "labels = np.append(np.ones((len(all_positive_tweets),1)), np.zeros((len(all_negative_tweets),1)), axis = 0)\n",
    "\n",
    "train_pos  = all_positive_tweets[:4000]\n",
    "train_neg  = all_negative_tweets[:4000]\n",
    "\n",
    "train_x = train_pos + train_neg \n",
    "```"
   ]
  },
  {
   "cell_type": "markdown",
   "id": "genuine-reflection",
   "metadata": {},
   "source": [
    "**Ejercicio 3.**\n",
    "\n",
    "Ejecute las siguientes lineas de código\n",
    "```python\n",
    "import re \n",
    "\n",
    "tweet = all_positive_tweets[2277]\n",
    "\n",
    "print('\\033[92m' + tweet)\n",
    "print('\\033[94m')\n",
    "\n",
    "tweet2 = re.sub(r'https?:\\/\\/.*[\\r\\n]*', '', tweet)\n",
    "\n",
    "tweet2 = re.sub(r'#', '', tweet2)\n",
    "\n",
    "print(tweet2)\n",
    "```\n",
    "+ Investigue el proposito de la libreria `re` y escriba este resultado en una celda markdown\n",
    "+ Describa en una celda markdown el resultado de la ejecución de cada `re.sub`\n",
    "+ Convierta *tweet2* a minusculas."
   ]
  },
  {
   "cell_type": "markdown",
   "id": "thirty-moderator",
   "metadata": {},
   "source": [
    "# Unidad 2"
   ]
  },
  {
   "cell_type": "markdown",
   "id": "dress-trail",
   "metadata": {},
   "source": [
    "**Ejercicio 4.**\n",
    "\n",
    "\n",
    "$$Ro = \\begin{bmatrix} cos \\theta & -sin \\theta \\\\ sin \\theta & cos \\theta \\end{bmatrix}$$\n",
    "$$x = \\begin{bmatrix} 2 \\\\  2 \\end{bmatrix}$$\n",
    "\n",
    "Aplique la siguiente operación\n",
    " $$y = x \\cdot Ro$$"
   ]
  },
  {
   "cell_type": "code",
   "execution_count": null,
   "id": "comic-performer",
   "metadata": {},
   "outputs": [],
   "source": [
    "# ayuda - No modificar\n",
    "angle = 100 * (np.pi / 180) # parametro para las funciones "
   ]
  },
  {
   "cell_type": "markdown",
   "id": "worldwide-storm",
   "metadata": {},
   "source": [
    "Salida esperada\n",
    "```\n",
    "[[ 1.62231915 -2.31691186]]\n",
    "```"
   ]
  },
  {
   "cell_type": "markdown",
   "id": "atlantic-canadian",
   "metadata": {},
   "source": [
    "**Ejercicio 5.**\n",
    "\n",
    "Aplique la siguientes operaciones a `A`\n",
    "\n",
    "$$\\|\\mathrm{A}\\|_{F} \\equiv \\sqrt{\\sum_{i=1}^{m} \\sum_{j=1}^{n}\\left|a_{i j}\\right|^{2}}$$\n"
   ]
  },
  {
   "cell_type": "code",
   "execution_count": null,
   "id": "adaptive-integer",
   "metadata": {},
   "outputs": [],
   "source": [
    "A = np.array([[2, 2],\n",
    "              [2, 2]])"
   ]
  },
  {
   "cell_type": "markdown",
   "id": "published-problem",
   "metadata": {},
   "source": [
    "Salida esperada\n",
    "```\n",
    "4\n",
    "```"
   ]
  },
  {
   "cell_type": "markdown",
   "id": "coordinated-jefferson",
   "metadata": {},
   "source": [
    "***"
   ]
  },
  {
   "cell_type": "markdown",
   "id": "foster-dover",
   "metadata": {},
   "source": [
    "Ejecute las siguientes lineas de código para los ejercicios 6-7\n",
    "```python\n",
    "from sklearn.datasets import load_wine\n",
    "import pandas as pd\n",
    "\n",
    "df = pd.DataFrame(load_wine().data, columns= load_wine().feature_names)\n",
    "df[\"target\"] = load_wine().target\n",
    "```"
   ]
  },
  {
   "cell_type": "markdown",
   "id": "surprising-shame",
   "metadata": {},
   "source": [
    "**Ejercicio 6.**"
   ]
  },
  {
   "cell_type": "markdown",
   "id": "overall-teacher",
   "metadata": {},
   "source": [
    "¿Cual es la clase mayoritaria (\"target\") del dataset?"
   ]
  },
  {
   "cell_type": "markdown",
   "id": "later-fifty",
   "metadata": {},
   "source": [
    "**Ejercicio 7.**\n",
    "\n",
    "Para la variable `flavanoids` que variables presentan una correlación linear positiva (mayor o igual a 0.6) y negativa (menor o igual a -0.5)"
   ]
  },
  {
   "cell_type": "markdown",
   "id": "revolutionary-dairy",
   "metadata": {},
   "source": [
    "**Ejercicio 8**\n",
    "\n",
    "En las siguientes celdas se cargará en memoria una representación de las palabras en su forma vectorial. Ejecute e interprete las siguientes celdas"
   ]
  },
  {
   "cell_type": "code",
   "execution_count": 52,
   "id": "hybrid-grant",
   "metadata": {},
   "outputs": [
    {
     "data": {
      "text/plain": [
       "243"
      ]
     },
     "execution_count": 52,
     "metadata": {},
     "output_type": "execute_result"
    }
   ],
   "source": [
    "import pickle\n",
    "\n",
    "word_embeddings = pickle.load(open(\"word_embeddings_subset.p\", \"rb\"))\n",
    "len(word_embeddings) # 243 palabras con su representación vectorial"
   ]
  },
  {
   "cell_type": "code",
   "execution_count": 53,
   "id": "popular-dancing",
   "metadata": {},
   "outputs": [
    {
     "name": "stdout",
     "output_type": "stream",
     "text": [
      "dimension: 300\n"
     ]
    }
   ],
   "source": [
    "print(\"dimension: {}\".format(word_embeddings['Spain'].shape[0])) # cada palabra cuenta con una dimensión de 300 valores"
   ]
  },
  {
   "cell_type": "code",
   "execution_count": 55,
   "id": "appointed-teacher",
   "metadata": {},
   "outputs": [
    {
     "data": {
      "text/plain": [
       "array([ 0.03149414, -0.18261719,  0.16308594,  0.12451172, -0.01855469,\n",
       "       -0.17382812, -0.12109375, -0.1328125 , -0.125     ,  0.24511719],\n",
       "      dtype=float32)"
      ]
     },
     "execution_count": 55,
     "metadata": {},
     "output_type": "execute_result"
    }
   ],
   "source": [
    "word_embeddings['Spain'][:10] # los 10 primeros valores de la palabra Spain"
   ]
  },
  {
   "cell_type": "markdown",
   "id": "extended-complex",
   "metadata": {},
   "source": [
    "*Calcule la similitud coseno de las palabras king y queen*\n",
    "\n",
    "$\\cos (\\theta)=\\frac{\\mathbf{A} \\cdot \\mathbf{B}}{\\|\\mathbf{A}\\|\\|\\mathbf{B}\\|}=\\frac{\\sum_{i=1}^{n} A_{i} B_{i}}{\\sqrt{\\sum_{i=1}^{n} A_{i}^{2}} \\sqrt{\\sum_{i=1}^{n} B_{i}^{2}}}\\tag{1}$\n",
    "\n",
    "<img src=\"fig.png\">"
   ]
  },
  {
   "cell_type": "markdown",
   "id": "through-congress",
   "metadata": {},
   "source": [
    "+ Los numeros entre 0 y 1 indican similitud\n",
    "+ Los numeros entre -1-0 indican una disimilitud \n",
    "\n",
    "¿Cual es su interpretación del indicador en las palabras seleccionadas?"
   ]
  },
  {
   "cell_type": "markdown",
   "id": "informative-pontiac",
   "metadata": {},
   "source": [
    "## Unidad 3"
   ]
  },
  {
   "cell_type": "markdown",
   "id": "amateur-maine",
   "metadata": {},
   "source": [
    "Entrene un modelo basado en el algortimo de Naive Bayes a partir de la ejecución de las siguientes lineas de código.\n",
    "\n",
    "```python\n",
    "from sklearn.model_selection import train_test_split\n",
    "from sklearn.naive_bayes import GaussianNB\n",
    "\n",
    "X, y = load_wine(return_X_y=True)\n",
    "X_train, X_test, y_train, y_test = train_test_split(X, y, test_size=0.2, random_state=0)\n",
    "gnb = GaussianNB().fit(X_train, y_train)\n",
    "y_pred = gnb.predict(X_test)\n",
    "\n",
    "from sklearn.metrics import classification_report\n",
    "print(classification_report(y_test, y_pred))\n",
    "```"
   ]
  },
  {
   "cell_type": "markdown",
   "id": "occupational-gospel",
   "metadata": {},
   "source": [
    "**Ejercicio 9.**\n",
    "+ Investigue e interprete los resultados de la precision\n"
   ]
  },
  {
   "cell_type": "markdown",
   "id": "integrated-picture",
   "metadata": {},
   "source": [
    "**Ejercicio 10.**\n",
    "+ Investigue e interprete los resultados de recall\n"
   ]
  },
  {
   "cell_type": "markdown",
   "id": "little-strengthening",
   "metadata": {},
   "source": [
    "**Ejercicio 11.**\n",
    "+ Investigue e interprete los resultados de accuracy"
   ]
  },
  {
   "cell_type": "markdown",
   "id": "impressed-understanding",
   "metadata": {},
   "source": [
    "***"
   ]
  },
  {
   "cell_type": "markdown",
   "id": "external-syndication",
   "metadata": {},
   "source": [
    "## Unidad 4"
   ]
  },
  {
   "cell_type": "markdown",
   "id": "interim-quantum",
   "metadata": {},
   "source": [
    "**Ejercicio 12.**"
   ]
  },
  {
   "cell_type": "markdown",
   "id": "innocent-knife",
   "metadata": {},
   "source": [
    "+ Instale la libreria statsmodels e imprima su versión"
   ]
  },
  {
   "cell_type": "markdown",
   "id": "cooked-auditor",
   "metadata": {},
   "source": [
    "Ejecute las siguientes lineas de código\n",
    "\n",
    "```python\n",
    "import pandas as pd\n",
    "from statsmodels.formula.api import ols\n",
    "\n",
    "df = pd.read_csv(\"taiwan_real_estate2.csv\")\n",
    "```"
   ]
  },
  {
   "cell_type": "markdown",
   "id": "emotional-malpractice",
   "metadata": {},
   "source": [
    "+ Ejecute, investigue e interprete la siguiente linea de código.\n",
    "\n",
    "```python\n",
    "mdl_price_vs_conv = ols(\"price_twd_msq ~ n_convenience\", data=df).fit()\n",
    "```"
   ]
  },
  {
   "cell_type": "markdown",
   "id": "charged-ending",
   "metadata": {},
   "source": [
    "**Ejercicio 13.**\n",
    "\n",
    "Ejecute, investigue e interprete el resultado del $R-squared$\n",
    "```python\n",
    "print(mdl_price_vs_conv.summary())\n",
    "```"
   ]
  },
  {
   "cell_type": "markdown",
   "id": "coordinated-canal",
   "metadata": {},
   "source": [
    "**Ejercicio 14.**\n",
    "\n",
    "La siguiente linea de código nos permite acceder a los componentes de la regresión lineal simple \n",
    "```python\n",
    "mdl_price_vs_conv.params\n",
    "```\n",
    "\n",
    "$ Y = a + b*X$\n",
    "\n",
    "Ejecute la siguiente linea de código para crear la varible independiente $X$\n",
    "\n",
    "```python\n",
    "explanatory_data = pd.DataFrame({'n_convenience': np.arange(0,11)})\n",
    "```\n",
    "+ Complete $ Y = a + b*X$ y compare los resultados del método predict de `mdl_price_vs_conv` con $X$"
   ]
  },
  {
   "cell_type": "markdown",
   "id": "destroyed-indication",
   "metadata": {},
   "source": [
    "## Unidad 5"
   ]
  },
  {
   "cell_type": "markdown",
   "id": "attempted-concord",
   "metadata": {},
   "source": [
    "Ejecute la siguientes lineas de código \n",
    "\n",
    "```python\n",
    "import numpy as np\n",
    "import matplotlib.pyplot as plt\n",
    "\n",
    "rgb = np.array([[[255, 0, 0], [255, 0 ,0], [255, 0, 0]],\n",
    "              [[0, 255, 0], [0, 255, 0], [0, 255, 0]],\n",
    "              [[0, 0, 255], [0, 0, 255], [0, 0, 255]]])\n",
    "\n",
    "plt.imshow(rgb)\n",
    "plt.show()\n",
    "```"
   ]
  },
  {
   "cell_type": "markdown",
   "id": "human-bangladesh",
   "metadata": {},
   "source": [
    "Ejecute las siguiente lineas de código \n",
    "\n",
    "```python\n",
    "colors = np.array([[[255, 0, 0], [255, 255 ,0], [255, 255, 255]],\n",
    "              [[255, 0, 255], [0, 255, 0], [0, 255, 255]],\n",
    "              [[0, 0, 0], [0, 255, 255], [0, 0, 255]]])\n",
    "\n",
    "plt.imshow(colors)\n",
    "plt.show()\n",
    "```"
   ]
  },
  {
   "cell_type": "markdown",
   "id": "surface-stuff",
   "metadata": {},
   "source": [
    "**Ejercicio 15.**\n",
    "\n",
    "+ Utilice el método where de numpy para cambiar los valores de `colors` de 255 a 50\n",
    "+ utilice imshow() para mostrar el resultado "
   ]
  },
  {
   "cell_type": "markdown",
   "id": "coordinated-insurance",
   "metadata": {},
   "source": [
    "Ejecute las siguientes lineas de código\n",
    "```python\n",
    "from matplotlib import image\n",
    "from matplotlib import pyplot\n",
    "\n",
    "ima = image.imread('hack')\n",
    "pyplot.imshow(ima)\n",
    "print(type(ima))\n",
    "```"
   ]
  },
  {
   "cell_type": "markdown",
   "id": "banner-nicaragua",
   "metadata": {},
   "source": [
    "**Ejercicio 16.**\n",
    "\n",
    "+ Obtenga la dimensión del verde de `ima`\n",
    "+ Utilice imshow() para mostrar el resultado"
   ]
  },
  {
   "cell_type": "markdown",
   "id": "entertaining-craft",
   "metadata": {},
   "source": [
    "**Ejercicio 17.**\n",
    "\n",
    "+ Investigue y utilice un método en numpy que le permita dar vuelta a `ima` \n",
    "+ Utilice imshow() y show() para mostrar el resultado"
   ]
  }
 ],
 "metadata": {
  "kernelspec": {
   "display_name": "Python 3 (ipykernel)",
   "language": "python",
   "name": "python3"
  },
  "language_info": {
   "codemirror_mode": {
    "name": "ipython",
    "version": 3
   },
   "file_extension": ".py",
   "mimetype": "text/x-python",
   "name": "python",
   "nbconvert_exporter": "python",
   "pygments_lexer": "ipython3",
   "version": "3.9.7"
  }
 },
 "nbformat": 4,
 "nbformat_minor": 5
}
